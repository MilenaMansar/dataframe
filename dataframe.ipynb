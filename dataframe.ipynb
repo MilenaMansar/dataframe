{
 "cells": [
  {
   "cell_type": "code",
   "execution_count": 8,
   "id": "712f24c8-047c-41fa-9155-0c9f604f72fb",
   "metadata": {},
   "outputs": [
    {
     "name": "stdout",
     "output_type": "stream",
     "text": [
      "      person_id  gender           wage\n",
      "0             0    Male   46793.603811\n",
      "1             1    Male   33481.575720\n",
      "2             2    Male   44523.699084\n",
      "3             3    Male   15995.576829\n",
      "4             4  Female   10282.631224\n",
      "...         ...     ...            ...\n",
      "1001        995    Male   66503.737185\n",
      "1002        996    Male    9972.956272\n",
      "1003        997  Female  104504.616392\n",
      "1004        998    Male   98927.903076\n",
      "1005        999    Male  108107.141368\n",
      "\n",
      "[1006 rows x 3 columns]\n"
     ]
    }
   ],
   "source": [
    "# Поменяем колонку `gender` так, чтобы были записи `F` (female) и `M` (male) вместо 0 и 1\n",
    "\n",
    "import pandas as pd\n",
    "df = pd.read_csv('wage.csv')\n",
    "gender_mapping = {0: 'Female', 1: 'Male'}\n",
    "df['gender'] = df['gender'].map(gender_mapping)\n",
    "print(df)"
   ]
  },
  {
   "cell_type": "code",
   "execution_count": 10,
   "id": "6c19073e-0e10-44d9-b2cb-8a9c499ed295",
   "metadata": {},
   "outputs": [
    {
     "data": {
      "text/plain": [
       "gender\n",
       "Female    40855.747261\n",
       "Male      46815.944005\n",
       "Name: wage, dtype: float64"
      ]
     },
     "execution_count": 10,
     "metadata": {},
     "output_type": "execute_result"
    }
   ],
   "source": [
    "# Давайте посчитаем среднюю зарплату у мужчин и женщин\n",
    "\n",
    "import pandas as pd\n",
    "df = pd.read_csv('wage.csv')\n",
    "gender_mapping = {0: 'Female', 1: 'Male'}\n",
    "df['gender'] = df['gender'].map(gender_mapping)\n",
    "average_wages = df.groupby('gender')['wage'].mean()\n",
    "average_wages"
   ]
  },
  {
   "cell_type": "markdown",
   "id": "a9d8c02a",
   "metadata": {},
   "source": []
  },
  {
   "cell_type": "code",
   "execution_count": 18,
   "id": "b034f6d7-7721-42ee-bd58-9f3ca1cf36c5",
   "metadata": {},
   "outputs": [
    {
     "name": "stdout",
     "output_type": "stream",
     "text": [
      "Люди, которые попали в выборку несколько раз:\n",
      "person_id\n",
      "17    2\n",
      "16    2\n",
      "15    2\n",
      "14    2\n",
      "13    2\n",
      "12    2\n",
      "Name: count, dtype: int64\n"
     ]
    }
   ],
   "source": [
    "import pandas as pd\n",
    "df = pd.read_csv('wage.csv')\n",
    "gender_mapping = {0: 'F', 1: 'M'}\n",
    "df['gender'] = df['gender'].map(gender_mapping)\n",
    "\n",
    "# Находим людей, которые попали в выборку несколько раз\n",
    "duplicates = df['person_id'].value_counts()\n",
    "duplicates = duplicates[duplicates > 1]\n",
    "print(\"Люди, которые попали в выборку несколько раз:\")\n",
    "print(duplicates)\n",
    "      "
   ]
  },
  {
   "cell_type": "code",
   "execution_count": 16,
   "id": "8241935b-44fc-4939-b61d-28df08fbcc91",
   "metadata": {},
   "outputs": [
    {
     "name": "stdout",
     "output_type": "stream",
     "text": [
      "У человека с ID 17 одинаковая зарплата во всех записях.\n",
      "У человека с ID 16 одинаковая зарплата во всех записях.\n",
      "У человека с ID 15 одинаковая зарплата во всех записях.\n",
      "У человека с ID 14 одинаковая зарплата во всех записях.\n",
      "У человека с ID 13 одинаковая зарплата во всех записях.\n",
      "У человека с ID 12 одинаковая зарплата во всех записях.\n"
     ]
    }
   ],
   "source": [
    "import pandas as pd\n",
    "df = pd.read_csv('wage.csv')\n",
    "gender_mapping = {0: 'F', 1: 'M'}\n",
    "df['gender'] = df['gender'].map(gender_mapping)\n",
    "\n",
    "#Проверяем, что записи по ним с одинаковым wage (т.е. у них одинаковая зарплата)\n",
    "for person_id in duplicates.index:\n",
    "  person_df = df[df['person_id'] == person_id]\n",
    "  if person_df['wage'].nunique() == 1:\n",
    "    print(f\"У человека с ID {person_id} одинаковая зарплата во всех записях.\")\n",
    "  else:\n",
    "    print(f\"У человека с ID {person_id} разная зарплата в записях.\")"
   ]
  },
  {
   "cell_type": "code",
   "execution_count": 20,
   "id": "efb994a6-410b-48ec-8c92-09e191614c5a",
   "metadata": {},
   "outputs": [
    {
     "name": "stdout",
     "output_type": "stream",
     "text": [
      "DataFrame без дубликатов:\n",
      "      person_id gender           wage\n",
      "0             0      M   46793.603811\n",
      "1             1      M   33481.575720\n",
      "2             2      M   44523.699084\n",
      "3             3      M   15995.576829\n",
      "4             4      F   10282.631224\n",
      "...         ...    ...            ...\n",
      "1001        995      M   66503.737185\n",
      "1002        996      M    9972.956272\n",
      "1003        997      F  104504.616392\n",
      "1004        998      M   98927.903076\n",
      "1005        999      M  108107.141368\n",
      "\n",
      "[1000 rows x 3 columns]\n"
     ]
    }
   ],
   "source": [
    "import pandas as pd\n",
    "df = pd.read_csv('wage.csv')\n",
    "gender_mapping = {0: 'F', 1: 'M'}\n",
    "df['gender'] = df['gender'].map(gender_mapping)\n",
    "\n",
    "# Избавляемся от повторяющихся значений\n",
    "df_unique = df.drop_duplicates(subset=['person_id'], keep='first')\n",
    "print(\"DataFrame без дубликатов:\")\n",
    "print(df_unique)"
   ]
  },
  {
   "cell_type": "code",
   "execution_count": 24,
   "id": "78d90d2b-3221-480f-9e59-8f5126b64ac1",
   "metadata": {},
   "outputs": [
    {
     "name": "stdout",
     "output_type": "stream",
     "text": [
      "Описание данных по зарплатам:\n",
      "count       995.000000\n",
      "mean      44306.969585\n",
      "std       54302.194392\n",
      "min         945.648458\n",
      "25%       14683.306148\n",
      "50%       27519.361794\n",
      "75%       52267.313664\n",
      "max      755320.874132\n",
      "Name: wage, dtype: float64\n"
     ]
    }
   ],
   "source": [
    "import pandas as pd\n",
    "df = pd.read_csv('wage.csv')\n",
    "gender_mapping = {0: 'F', 1: 'M'}\n",
    "df['gender'] = df['gender'].map(gender_mapping)\n",
    "\n",
    "# Охарактеризуем имеющиеся данные по зарплатам\n",
    "print(\"Описание данных по зарплатам:\")\n",
    "print(df_unique['wage'].describe())\n"
   ]
  },
  {
   "cell_type": "code",
   "execution_count": 26,
   "id": "b44b70f5-01e5-4a7f-b31e-7c5eee006a0d",
   "metadata": {},
   "outputs": [
    {
     "name": "stdout",
     "output_type": "stream",
     "text": [
      "\n",
      "DataFrame без дубликатов и отрицательных зарплат:\n",
      "      person_id gender           wage\n",
      "0             0      M   46793.603811\n",
      "1             1      M   33481.575720\n",
      "2             2      M   44523.699084\n",
      "3             3      M   15995.576829\n",
      "4             4      F   10282.631224\n",
      "...         ...    ...            ...\n",
      "1001        995      M   66503.737185\n",
      "1002        996      M    9972.956272\n",
      "1003        997      F  104504.616392\n",
      "1004        998      M   98927.903076\n",
      "1005        999      M  108107.141368\n",
      "\n",
      "[995 rows x 3 columns]\n"
     ]
    }
   ],
   "source": [
    "import pandas as pd\n",
    "df = pd.read_csv('wage.csv')\n",
    "gender_mapping = {0: 'F', 1: 'M'}\n",
    "df['gender'] = df['gender'].map(gender_mapping)\n",
    "\n",
    "# Избавляемся от бессмысленных значений (например, отрицательных зарплат)\n",
    "df_unique = df_unique[df_unique['wage'] > 0]\n",
    "\n",
    "# Выводим обновленный DataFrame\n",
    "print(\"\\nDataFrame без дубликатов и отрицательных зарплат:\")\n",
    "print(df_unique)"
   ]
  },
  {
   "cell_type": "code",
   "execution_count": null,
   "id": "30a070a2-4975-4c2b-9210-45672c6d2bc5",
   "metadata": {},
   "outputs": [],
   "source": []
  }
 ],
 "metadata": {
  "kernelspec": {
   "display_name": "Python 3 (ipykernel)",
   "language": "python",
   "name": "python3"
  },
  "language_info": {
   "codemirror_mode": {
    "name": "ipython",
    "version": 3
   },
   "file_extension": ".py",
   "mimetype": "text/x-python",
   "name": "python",
   "nbconvert_exporter": "python",
   "pygments_lexer": "ipython3",
   "version": "3.12.4"
  }
 },
 "nbformat": 4,
 "nbformat_minor": 5
}
